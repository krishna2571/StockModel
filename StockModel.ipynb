{
 "cells": [
  {
   "cell_type": "code",
   "execution_count": 1,
   "id": "d94879f6-c1d3-4c24-b111-51bfd61bc0c8",
   "metadata": {},
   "outputs": [],
   "source": [
    "import yfinance as yf\n",
    "import matplotlib.pyplot as plt\n",
    "from statsmodels.tsa.arima.model import ARIMA\n",
    "from sklearn.metrics import mean_absolute_error"
   ]
  },
  {
   "cell_type": "code",
   "execution_count": 3,
   "id": "a55daa62-9df0-45f6-8b78-1d65b096198e",
   "metadata": {},
   "outputs": [],
   "source": [
    "def process_stock_data(ticker, start_date, end_date): \n",
    "    data = yf.download(ticker, start=start_date, end=end_date)\n",
    "    closing_prices = data['Close']\n",
    "    return closing_prices"
   ]
  },
  {
   "cell_type": "code",
   "execution_count": 5,
   "id": "63a58231-1877-4cb5-b97c-a8f358a36a80",
   "metadata": {},
   "outputs": [],
   "source": [
    "#Function to fit and predict using ARIMA\n",
    "def arima_model(closing_prices):\n",
    "    model = ARIMA(closing_prices, order=(5,1,0))\n",
    "    model_fit = model.fit()\n",
    "    predictions = model_fit.predict(typ='levels')\n",
    "    return predictions\n",
    "    "
   ]
  },
  {
   "cell_type": "code",
   "execution_count": 7,
   "id": "c8feee31-606f-4905-aa35-8fed31ca1434",
   "metadata": {},
   "outputs": [],
   "source": [
    "#Plot the data\n",
    "def plot_data(actual, predicted, title):\n",
    "    #Plots actual vs predicted data\n",
    "    plt.figure(figsize=(10,4))\n",
    "    plt.plot(actual, label='Original')\n",
    "    plt.plot(predicted, color='red', label='Predicted')\n",
    "    plt.title(title)\n",
    "    plt.xlabel('Time')\n",
    "    plt.ylabel('Price ($)')\n",
    "    plt.legend()\n",
    "    plt.grid(True)\n",
    "    plt.show()"
   ]
  },
  {
   "cell_type": "code",
   "execution_count": 9,
   "id": "920d1011-463c-4127-849a-da43db1ff2b8",
   "metadata": {},
   "outputs": [],
   "source": [
    "#Function to compute mean absolute percentage error(MAPE)\n",
    "def compute_mape(actual, predicted) :\n",
    "    mape = mean_absolute_error(actual, predicted)/len(actual) * 100 # Formula to get MAPE\n",
    "    return round(mape, 2)"
   ]
  },
  {
   "cell_type": "code",
   "execution_count": 11,
   "id": "489d05bf-4677-420f-a415-2edeb4c811a0",
   "metadata": {},
   "outputs": [
    {
     "name": "stderr",
     "output_type": "stream",
     "text": [
      "[*********************100%%**********************]  1 of 1 completed\n",
      "[*********************100%%**********************]  1 of 1 completed\n"
     ]
    }
   ],
   "source": [
    "#Start and end dates\n",
    "start_date='2019-01-01'\n",
    "end_date='2023-07-21'\n",
    "\n",
    "#Process stock data\n",
    "closing_prices_apple = process_stock_data('AAPL', start_date, end_date)\n",
    "closing_prices_tesla = process_stock_data('TSLA', start_date, end_date)\n",
    "\n",
    "#Fit ARIMA and make predictions\n",
    "predictions_apple = arima_model(closing_prices_apple)\n",
    "predictions_tesla = arima_model(closing_prices_tesla)\n",
    "\n",
    "#Compute MAPE\n",
    "mape_apple = compute_mape(closing_prices_apple, predictions_apple)\n",
    "mape_tesla = compute_mape(closing_prices_tesla, predictions_tesla)"
   ]
  },
  {
   "cell_type": "code",
   "execution_count": null,
   "id": "da1ba769-d7c2-4c13-9cb8-3416385829d7",
   "metadata": {},
   "outputs": [],
   "source": []
  }
 ],
 "metadata": {
  "kernelspec": {
   "display_name": "Python 3 (ipykernel)",
   "language": "python",
   "name": "python3"
  },
  "language_info": {
   "codemirror_mode": {
    "name": "ipython",
    "version": 3
   },
   "file_extension": ".py",
   "mimetype": "text/x-python",
   "name": "python",
   "nbconvert_exporter": "python",
   "pygments_lexer": "ipython3",
   "version": "3.11.7"
  }
 },
 "nbformat": 4,
 "nbformat_minor": 5
}
